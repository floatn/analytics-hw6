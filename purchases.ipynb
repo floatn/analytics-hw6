{
 "cells": [
  {
   "cell_type": "code",
   "execution_count": 21,
   "id": "9c509174-48c7-47d5-a90d-702912e0463a",
   "metadata": {},
   "outputs": [
    {
     "name": "stdout",
     "output_type": "stream",
     "text": [
      "99999\n"
     ]
    }
   ],
   "source": [
    "#task1\n",
    "def strip_split(string, splitchar, stripchars=\"\"):\n",
    "    \"\"\"\n",
    "    Split a string with applying strip before and after procedure.\n",
    "\n",
    "    Parameters\n",
    "    ----------\n",
    "    string: str\n",
    "        String for splitting.\n",
    "    splitchar: str\n",
    "        Character used to split the string.\n",
    "    stripchars: str\n",
    "        Additional characters to strip after the initial default strip.\n",
    "\n",
    "    Returns\n",
    "    -------\n",
    "    list\n",
    "        Result of string splitting.\n",
    "           \n",
    "    \"\"\"\n",
    "    string_stripped = string.strip().strip(stripchars)\n",
    "    strings_splitted = [string.strip() for string in string_stripped.split(splitchar)]\n",
    "    return strings_splitted\n",
    "\n",
    "purchases = dict()\n",
    "id_repeats = 0\n",
    "with open('purchase_log.txt', 'r') as purchase_log:\n",
    "    next(purchase_log)\n",
    "    for i, line in enumerate(purchase_log):\n",
    "        columns = sorted(strip_split(line, ',', '{}'))\n",
    "        values_raw = [strip_split(column, ':')[1] for column in columns]\n",
    "        category, user_id = [value.strip('\"\"') for value in values_raw]\n",
    "        if user_id in purchases: id_repeats += 1\n",
    "        purchases[user_id] = category\n",
    "\n",
    "print(len(purchases) + id_repeats)"
   ]
  },
  {
   "cell_type": "code",
   "execution_count": 22,
   "id": "9c1ea0d0-a574-4ee0-96ae-c807740f1413",
   "metadata": {},
   "outputs": [
    {
     "name": "stdout",
     "output_type": "stream",
     "text": [
      "1840e0b9d4 ‘Продукты‘\n",
      "4e4f90fcfb ‘Электроника‘\n"
     ]
    }
   ],
   "source": [
    "for i, (user_id, category) in enumerate(purchases.items()):\n",
    "    if i > 1: break\n",
    "    print(user_id, f\"‘{category}‘\")"
   ]
  },
  {
   "cell_type": "code",
   "execution_count": 25,
   "id": "d3b550a3-173f-493e-8945-83c854f04d5e",
   "metadata": {},
   "outputs": [],
   "source": [
    "#task2\n",
    "import pandas as pd\n",
    "import os\n",
    "\n",
    "visit_log_chunks = pd.read_csv('visit_log.csv', chunksize=1000)\n",
    "first_chunk = os.path.exists('funnel.csv')\n",
    "for chunk in visit_log_chunks:\n",
    "    chunk['category'] = chunk['user_id'].map(purchases)\n",
    "    chunk.dropna().to_csv('funnel.csv', header=first_chunk, index=False, mode='a')\n",
    "    first_chunk = False"
   ]
  },
  {
   "cell_type": "code",
   "execution_count": 28,
   "id": "30d0d68d-87e6-46fb-b5df-8187858e9656",
   "metadata": {},
   "outputs": [
    {
     "name": "stdout",
     "output_type": "stream",
     "text": [
      "user_id,source,category\n",
      "1840e0b9d4,other,Продукты\n",
      "4e4f90fcfb,context,Электроника\n"
     ]
    }
   ],
   "source": [
    "!head -n 3 funnel.csv"
   ]
  }
 ],
 "metadata": {
  "kernelspec": {
   "display_name": "Python 3 (ipykernel)",
   "language": "python",
   "name": "python3"
  },
  "language_info": {
   "codemirror_mode": {
    "name": "ipython",
    "version": 3
   },
   "file_extension": ".py",
   "mimetype": "text/x-python",
   "name": "python",
   "nbconvert_exporter": "python",
   "pygments_lexer": "ipython3",
   "version": "3.12.7"
  }
 },
 "nbformat": 4,
 "nbformat_minor": 5
}
